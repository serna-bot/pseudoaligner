{
 "cells": [
  {
   "cell_type": "code",
   "execution_count": 9,
   "id": "b3fd30e4",
   "metadata": {},
   "outputs": [],
   "source": [
    "# from matplotlib import pyplot as plt\n",
    "# import numpy as np\n",
    "# import scipy as sp\n",
    "# import seaborn as sns\n",
    "# import pandas as pds\n",
    "# from Bio import SeqIO\n",
    "\n",
    "from src.classes import *\n",
    "from src.stats import *"
   ]
  },
  {
   "cell_type": "code",
   "execution_count": 10,
   "id": "c17d7b2e",
   "metadata": {},
   "outputs": [],
   "source": [
    "input_file = \"/Users/serenaong/Documents/csc121_project/data/NC_000001.11[1..248956422].fasta\"\n",
    "\n",
    "record = SeqIO.read(input_file, \"fasta\")"
   ]
  },
  {
   "cell_type": "code",
   "execution_count": null,
   "id": "64da74a7",
   "metadata": {},
   "outputs": [],
   "source": []
  }
 ],
 "metadata": {
  "kernelspec": {
   "display_name": "Python 3 (ipykernel)",
   "language": "python",
   "name": "python3"
  },
  "language_info": {
   "codemirror_mode": {
    "name": "ipython",
    "version": 3
   },
   "file_extension": ".py",
   "mimetype": "text/x-python",
   "name": "python",
   "nbconvert_exporter": "python",
   "pygments_lexer": "ipython3",
   "version": "3.11.3"
  }
 },
 "nbformat": 4,
 "nbformat_minor": 5
}
